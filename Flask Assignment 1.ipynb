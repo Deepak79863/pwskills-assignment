{
 "cells": [
  {
   "cell_type": "markdown",
   "id": "ab661abf",
   "metadata": {},
   "source": [
    "1 Ans)\n",
    "\n",
    "Flask is a micro web framework for Python that provides a simple and flexible way to build web applications. It is designed to be easy to use and has a small core with many extensions available to add functionality as needed. Flask is known for its simplicity, minimalism, and ease of use, and it has become a popular choice for developers who want to build small to medium-sized web applications quickly and efficiently.\n",
    "\n",
    "Advantages\n",
    "\n",
    "Lightweight: Flask is a lightweight framework that does not come with any pre-built components, allowing developers to choose the components they need and avoiding any unnecessary bloat in their application.\n",
    "\n",
    "Easy to use: Flask is easy to learn and use, making it an excellent choice for beginners. It also has a simple and intuitive API that allows developers to quickly build web applications.\n",
    "\n",
    "Flexible: Flask allows developers to customize and extend the framework according to their needs. It does not impose any specific architecture or directory structure, giving developers more freedom in building their applications.\n",
    "\n",
    "Built-in development server: Flask comes with a built-in development server, making it easy to test and debug applications without the need for additional tools.\n",
    "\n",
    "Large community: Flask has a large community of developers who contribute to the framework's development and provide support to other developers. This community provides a wealth of resources, such as plugins, extensions, and documentation, that can help developers to build applications more quickly and efficiently.\n",
    "\n",
    "Overall, Flask is a powerful framework that is easy to use, flexible, and customizable. It is an excellent choice for building web applications, particularly for smaller projects or prototypes."
   ]
  },
  {
   "cell_type": "code",
   "execution_count": null,
   "id": "2cf53b21",
   "metadata": {},
   "outputs": [],
   "source": []
  },
  {
   "cell_type": "code",
   "execution_count": null,
   "id": "41c4183a",
   "metadata": {},
   "outputs": [],
   "source": [
    "# 2 Ans)\n",
    "from flask import Flask\n",
    "\n",
    "app = Flask(__name__)\n",
    "\n",
    "@app.route(\"/\")\n",
    "def hello_world():\n",
    "    return '<h1>Hello World!!</h1>'\n",
    "\n",
    "if __name__==\"__main__\":\n",
    "    app.run(host=\"0.0.0.0\")"
   ]
  },
  {
   "cell_type": "code",
   "execution_count": null,
   "id": "23cb115d",
   "metadata": {},
   "outputs": [],
   "source": []
  },
  {
   "cell_type": "markdown",
   "id": "1d4d7802",
   "metadata": {},
   "source": [
    "3 Ans)\n",
    "\n",
    "App routing in Flask refers to the process of mapping URLs to view functions in a Flask application. Flask uses a decorator called @app.route to define routes and associate them with view functions.\n",
    "\n",
    "When a user requests a URL that matches a defined route in the Flask app, the corresponding view function is executed and its return value is sent back to the user as a response. Flask supports various HTTP methods like GET, POST, PUT, DELETE, etc., and we can specify which HTTP methods a route should respond to using the methods argument in the @app.route decorator.\n",
    "\n",
    "App routes are essential in Flask because they enable developers to create multiple pages or endpoints for their web application. Each app route defines a unique URL, and when a user visits that URL, Flask calls the function that is associated with the route to generate the HTML content to be displayed on the page."
   ]
  },
  {
   "cell_type": "code",
   "execution_count": null,
   "id": "f6e49d39",
   "metadata": {},
   "outputs": [],
   "source": []
  },
  {
   "cell_type": "code",
   "execution_count": null,
   "id": "a49d0a8d",
   "metadata": {},
   "outputs": [],
   "source": [
    "# 4 Ans)\n",
    "\n",
    "from flask import Flask\n",
    "\n",
    "app = Flask(__name__)\n",
    "\n",
    "@app.route(\"/\")\n",
    "def company_details():\n",
    "    return \"<h2>Company Name: ABC Corporation</h2><br><h2>Location: India</h2><br><h2>Contact Detail: 999-999-9999</h2>\"\n",
    "\n",
    "@app.route(\"/welcome\")\n",
    "def welcome_message():\n",
    "    return \"<h1>Welcome to ABC Corporation</h1>\"\n",
    "\n",
    "if __name__ == \"__main__\":\n",
    "    app.run(host = \"0.0.0.0\")"
   ]
  },
  {
   "cell_type": "code",
   "execution_count": null,
   "id": "9f538d9b",
   "metadata": {},
   "outputs": [],
   "source": []
  },
  {
   "cell_type": "markdown",
   "id": "82558385",
   "metadata": {},
   "source": [
    "5 Ans)\n",
    "\n",
    "In Flask, the url_for() function is used for URL building. This function takes the endpoint name and any arguments and returns a URL to that endpoint. The url_for() function is useful because it generates URLs based on the routes defined in the application, which ensures that the URLs are consistent and will continue to work even if the URL scheme changes.\n",
    "\n",
    "Here's an example of how to use the url_for() function in Flask:"
   ]
  },
  {
   "cell_type": "code",
   "execution_count": null,
   "id": "8af7b8b9",
   "metadata": {},
   "outputs": [],
   "source": [
    "from flask import Flask, url_for\n",
    "\n",
    "app = Flask(__name__)\n",
    "\n",
    "@app.route('/')\n",
    "def index():\n",
    "    return f'Click <a href=\"{url_for(\"hello\",name=\"john\")}\">here</a> to say hello to john.'\n",
    "    \n",
    "@app.route('/hello/<name>')\n",
    "def hello(name):\n",
    "    return f'Hello,{name}'\n",
    "if __name__ == \"__main__\":\n",
    "    app.run(host = \"0.0.0.0\")"
   ]
  },
  {
   "cell_type": "code",
   "execution_count": null,
   "id": "5d9fdfd4",
   "metadata": {},
   "outputs": [],
   "source": []
  }
 ],
 "metadata": {
  "kernelspec": {
   "display_name": "Python 3 (ipykernel)",
   "language": "python",
   "name": "python3"
  },
  "language_info": {
   "codemirror_mode": {
    "name": "ipython",
    "version": 3
   },
   "file_extension": ".py",
   "mimetype": "text/x-python",
   "name": "python",
   "nbconvert_exporter": "python",
   "pygments_lexer": "ipython3",
   "version": "3.9.1"
  }
 },
 "nbformat": 4,
 "nbformat_minor": 5
}
