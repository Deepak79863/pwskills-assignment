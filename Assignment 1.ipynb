{
 "cells": [
  {
   "cell_type": "markdown",
   "id": "5379d844",
   "metadata": {},
   "source": [
    "1 Ans) Python programming language was developed by Guido van Rossum. He started working on Python in December 1989, and the first version of the language was released in February 1991. "
   ]
  },
  {
   "cell_type": "markdown",
   "id": "c2b375c9",
   "metadata": {},
   "source": [
    "2 Ans) Python supports multiple programming paradigms, including:\n",
    "\n",
    "Object-Oriented Programming (OOP): This allows the creation of objects and classes that can be used to model real-world entities.\n",
    "\n",
    "Imperative Programming: This involves using statements to specify a sequence of actions that the computer should perform.\n",
    "\n",
    "Functional Programming: This involves treating computation as the evaluation of mathematical functions, and is supported by Python's built-in functional programming features like map, filter, and reduce.\n",
    "\n",
    "Procedural Programming: This involves breaking down a problem into a series of procedures or functions to solve the problem step by step."
   ]
  },
  {
   "cell_type": "markdown",
   "id": "e38fe0ac",
   "metadata": {},
   "source": [
    "3 Ans) Yes, Python is a case-sensitive language, i.e., it treats uppercase and lowercase characters differently. This applies to identifiers too. You must avoid using the same name with different cases while naming identifiers.\n",
    "Example :- Count and count both are different"
   ]
  },
  {
   "cell_type": "markdown",
   "id": "7bebacfe",
   "metadata": {},
   "source": [
    "4 Ans) The correct extenstion of Python file is .py"
   ]
  },
  {
   "cell_type": "markdown",
   "id": "52321261",
   "metadata": {},
   "source": [
    "5 Ans) Python is an interpreted language, which means the source code of a Python program is converted into bytecode that is then executed by the Python virtual machine."
   ]
  },
  {
   "cell_type": "markdown",
   "id": "37e40f7d",
   "metadata": {},
   "source": [
    "6 Ans) The following are blocks: a module, a function body, and a class definition. Each command typed interactively is a block. Indentation is used to define a block of code in python."
   ]
  },
  {
   "cell_type": "markdown",
   "id": "da0990b8",
   "metadata": {},
   "source": [
    "7 Ans) # is used for single line comment"
   ]
  },
  {
   "cell_type": "markdown",
   "id": "b3e1d852",
   "metadata": {},
   "source": [
    "8 Ans) sys.version and in cmd python --version"
   ]
  },
  {
   "cell_type": "markdown",
   "id": "16c8e61e",
   "metadata": {},
   "source": [
    "9 Ans) lambda"
   ]
  },
  {
   "cell_type": "markdown",
   "id": "c5a17520",
   "metadata": {},
   "source": [
    "10 Ans) Preferred Installer Program "
   ]
  },
  {
   "cell_type": "markdown",
   "id": "91f85ee5",
   "metadata": {},
   "source": [
    "11 Ans) print( )\n",
    "type( )\n",
    "input( )\n",
    "abs( )\n",
    "pow( )\n",
    "dir( )\n",
    "sorted( )\n",
    "max( )"
   ]
  },
  {
   "cell_type": "markdown",
   "id": "1eb120d5",
   "metadata": {},
   "source": [
    "12 Ans) Python identifiers are unlimited in length\" but as per PEP-8 you should limit identifier to a maximum of 79 character for better readability but there is no restriction."
   ]
  },
  {
   "cell_type": "markdown",
   "id": "3489d672",
   "metadata": {},
   "source": [
    "13 Ans) Python has many benefits including:\n",
    "\n",
    "Easy to learn and use: Python has a simple and straightforward syntax which makes it easy for beginners to pick up.\n",
    "\n",
    "Versatile: Python can be used for a wide range of applications, including web development, scientific computing, data analysis, artificial intelligence, and more.\n",
    "\n",
    "Large community: Python has a large and active community, which means there is a wealth of resources available, such as libraries and frameworks.\n",
    "\n",
    "Good for prototyping: Python's short development cycle and ease of use make it a great language for quickly prototyping ideas.\n",
    "\n",
    "Interoperability: Python can easily be integrated with other languages and tools, allowing it to be used as a \"glue\" language for connecting components.\n",
    "\n",
    "Good for data Science and analysis: Python has a number of powerful libraries, such as NumPy, Pandas, sklearn, opencv and Matplotlib, that make it a great choice for data Science and analysis."
   ]
  },
  {
   "cell_type": "markdown",
   "id": "708bdf4a",
   "metadata": {},
   "source": [
    "14 Ans) According to the Python memory management documentation, Python has a private heap that stores our program’s objects and data structures. Python memory manager takes care of the bulk of the memory management work and allows us to concentrate on our code.\n",
    "\n",
    "Types of memory allocation\n",
    "1. Static memory\n",
    "2. Dynamic memory\n",
    "\n",
    "Python garbage collection -: The Python garbage collector handles memory allocation and deallocation automatically in Python. Python developers have designed it to eliminate the need for manual garbage collection. Garbage collection in Python refers to the interpreter’s memory management process of freeing up unneeded and undesired memory for our applications."
   ]
  },
  {
   "cell_type": "markdown",
   "id": "ba452a3f",
   "metadata": {},
   "source": [
    "15 Ans) Here's how you can install Python on Windows and set the path variables:\n",
    "1. Download the latest version of Python from the official website (https://www.python.org/downloads/).\n",
    "2. Run the installer and follow the instructions to install Python on your system.\n",
    "3. Open the \"Environment Variables\" dialog by typing \"Environment Variables\" into the Windows search bar and clicking on \"Edit the system environment variables.\"\n",
    "4. Under \"System Variables,\" scroll down and find the \"Path\" variable, then click \"Edit.\"\n",
    "5. Click \"New\" and add the path to your Python installation. For example, if you installed Python in the default location, the path would be \"C:\\PythonXX,\" where \"XX\" is the version number.\n",
    "6. Click \"OK\" to close all the dialog boxes.\n",
    "7. Open a new command prompt and type \"python\" to confirm that the installation was successful and that the path variables are set correctly.\n",
    "Note: It may need to restart any open command prompts for the changes to take effect."
   ]
  },
  {
   "cell_type": "markdown",
   "id": "989e2180",
   "metadata": {},
   "source": [
    "16 Ans) Ans: Yes, indentation is required in Python. Indentation is used to indicate the block of code associated with control structures such as loops and conditional statements. The indentation level determines the scope of the code block, and a consistent indentation style makes the code easier to read and understand. In Python, the indentation level is defined by one or more spaces at the beginning of a line. The recommended indentation level is 4 spaces, but some developers prefer 2 spaces or use tabs instead of spaces. It's important to be consistent within a single project, and most code editors can automatically handle indentation for you."
   ]
  },
  {
   "cell_type": "code",
   "execution_count": null,
   "id": "c9598f4f",
   "metadata": {},
   "outputs": [],
   "source": []
  }
 ],
 "metadata": {
  "kernelspec": {
   "display_name": "Python 3 (ipykernel)",
   "language": "python",
   "name": "python3"
  },
  "language_info": {
   "codemirror_mode": {
    "name": "ipython",
    "version": 3
   },
   "file_extension": ".py",
   "mimetype": "text/x-python",
   "name": "python",
   "nbconvert_exporter": "python",
   "pygments_lexer": "ipython3",
   "version": "3.9.1"
  }
 },
 "nbformat": 4,
 "nbformat_minor": 5
}
