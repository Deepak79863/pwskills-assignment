{
 "cells": [
  {
   "cell_type": "markdown",
   "id": "66b231c0",
   "metadata": {},
   "source": [
    "1 Ans)\n",
    "\n",
    "An exception is an event, which occurs during the execution of a program that disrupts the normal flow of the program's instructions. In general, when a Python script encounters a situation that it cannot cope with, it raises an exception. An exception is a Python object that represents an error.\n",
    "\n",
    "D/w syntax and exception\n",
    "\n",
    "A syntax error occurs when the structure of a program does not conform to the rules of the programming language. Syntax errors are usually detected by the compiler or interpreter when the program is being compiled or executed, and they prevent the program from running. Syntax errors are usually caused by mistakes in the source code, such as typos or incorrect use of syntax.\n",
    "\n",
    "An exception is an abnormal event that occurs during the execution of a program. Exceptions are usually caused by runtime errors, such as dividing by zero, trying to access an element in an array with an out-of-bounds index, or trying to access a file that does not exist. Exceptions are not syntax errors, but they can still prevent the program from running if they are not handled properly."
   ]
  },
  {
   "cell_type": "code",
   "execution_count": null,
   "id": "2037c033",
   "metadata": {},
   "outputs": [],
   "source": []
  },
  {
   "cell_type": "markdown",
   "id": "906eda9b",
   "metadata": {},
   "source": [
    "2 Ans)\n",
    "\n",
    "Exceptions are raised when some internal events occur which changes the normal flow of the program. \n",
    "\n",
    "marks = 10000\n",
    "a = marks / 0\n",
    "print(a)\n",
    "\n",
    "Exceptions are raised when the program is syntactically correct, but the code resulted in an error. This error does not stop the execution of the program, however, it changes the normal flow of the program.\n",
    "Here result will be ZeroDivisionError and to make it look more specific to person who did not have technical background we use exception block"
   ]
  },
  {
   "cell_type": "code",
   "execution_count": null,
   "id": "35f0f078",
   "metadata": {},
   "outputs": [],
   "source": []
  },
  {
   "cell_type": "markdown",
   "id": "426d155d",
   "metadata": {},
   "source": [
    "3 Ans)\n",
    "\n",
    "Exception handling is managed by the following 4 keywords:\n",
    "\n",
    "try\n",
    "except\n",
    "else\n",
    "finally\n",
    "\n",
    "The catch Statement : We use except in python except of catch statement\n",
    "Exception handling allows you to separate error-handling code from normal code.\n",
    "An exception is a Python object which represents an error.\n",
    "\n",
    "Example \n",
    "\n",
    "def divide(num):  \n",
    "    try:  \n",
    "        reci = 1 / num \n",
    "    except ZeroDivisionError:  \n",
    "        print( \"We cannot divide by zero\" )  \n",
    "    else:  \n",
    "        print (reci)   \n",
    "divide(0) "
   ]
  },
  {
   "cell_type": "code",
   "execution_count": null,
   "id": "99adc640",
   "metadata": {},
   "outputs": [],
   "source": []
  },
  {
   "cell_type": "code",
   "execution_count": 3,
   "id": "5dedbec9",
   "metadata": {},
   "outputs": [
    {
     "name": "stdout",
     "output_type": "stream",
     "text": [
      "1\n",
      "This is always executed\n",
      "Sorry ! You are dividing by zero \n",
      "This is always executed\n"
     ]
    }
   ],
   "source": [
    "'''4 Ans)\n",
    "\n",
    "Exception handling with try, except, else, and finally\n",
    "\n",
    "Try: This block will test the excepted error to occur\n",
    "Except:  Here you can handle the error\n",
    "Else: If there is no exception then this block will be executed\n",
    "Finally: Finally block always gets executed either exception is generated or not'''\n",
    "\n",
    "def divide(x, y):\n",
    "    try:\n",
    "        result = x // y\n",
    "    except ZeroDivisionError:\n",
    "        print(\"Sorry ! You are dividing by zero \")\n",
    "    else:\n",
    "        print(result)\n",
    "    finally:  \n",
    "        print('This is always executed')  \n",
    "\n",
    "divide(3, 2)\n",
    "divide(3, 0)"
   ]
  },
  {
   "cell_type": "code",
   "execution_count": null,
   "id": "63b1b7df",
   "metadata": {},
   "outputs": [],
   "source": []
  },
  {
   "cell_type": "code",
   "execution_count": 4,
   "id": "9aefb5fb",
   "metadata": {},
   "outputs": [
    {
     "name": "stdout",
     "output_type": "stream",
     "text": [
      "Enter a number: 17\n",
      "Exception occurred: Invalid Age\n"
     ]
    }
   ],
   "source": [
    "'''5 Ans)\n",
    "\n",
    "Custom Exceptions :\n",
    "In Python, we can define custom exceptions by creating a new class that is derived from the built-in Exception class.\n",
    "\n",
    "why ?\n",
    "ans)\n",
    "Python is known for its readability and user-friendliness; using custom exceptions can help us improve this even more, especially when we are designing our package.\n",
    "\n",
    "Four reasons\n",
    "1.Greater Code Trace-ability\n",
    "\n",
    "2.Greater Code Usability\n",
    "\n",
    "3.Improved Exception Handling\n",
    "\n",
    "4.Ease in Debugging\n",
    "\n",
    "There are some error that are not predefined by python so to raise those error as human readable we use custom exception\n",
    "'''\n",
    "\n",
    "class InvalidAgeException(Exception):\n",
    "    \"Raised when the input value is less than 18\"\n",
    "    pass\n",
    "\n",
    "number = 18\n",
    "\n",
    "try:\n",
    "    input_num = int(input(\"Enter a number: \"))\n",
    "    if input_num < number:\n",
    "        raise InvalidAgeException\n",
    "    else:\n",
    "        print(\"Eligible to Vote\")\n",
    "        \n",
    "except InvalidAgeException:\n",
    "    print(\"Exception occurred: Invalid Age\")"
   ]
  },
  {
   "cell_type": "code",
   "execution_count": null,
   "id": "a13ffc09",
   "metadata": {},
   "outputs": [],
   "source": []
  },
  {
   "cell_type": "code",
   "execution_count": 5,
   "id": "fbce9211",
   "metadata": {},
   "outputs": [
    {
     "name": "stdout",
     "output_type": "stream",
     "text": [
      "Enter a number: 25\n",
      "Eligible to Vote\n"
     ]
    }
   ],
   "source": [
    "# 6 Ans)\n",
    "\n",
    "class InvalidAgeException(Exception):\n",
    "    \"Raised when the input value is less than 18\"\n",
    "    pass\n",
    "\n",
    "number = 18\n",
    "\n",
    "try:\n",
    "    input_num = int(input(\"Enter a number: \"))\n",
    "    if input_num < number:\n",
    "        raise InvalidAgeException\n",
    "    else:\n",
    "        print(\"Eligible to Vote\")\n",
    "        \n",
    "except InvalidAgeException:\n",
    "    print(\"Exception occurred: Invalid Age\")"
   ]
  },
  {
   "cell_type": "code",
   "execution_count": null,
   "id": "7a12e083",
   "metadata": {},
   "outputs": [],
   "source": []
  }
 ],
 "metadata": {
  "kernelspec": {
   "display_name": "Python 3 (ipykernel)",
   "language": "python",
   "name": "python3"
  },
  "language_info": {
   "codemirror_mode": {
    "name": "ipython",
    "version": 3
   },
   "file_extension": ".py",
   "mimetype": "text/x-python",
   "name": "python",
   "nbconvert_exporter": "python",
   "pygments_lexer": "ipython3",
   "version": "3.9.1"
  }
 },
 "nbformat": 4,
 "nbformat_minor": 5
}
