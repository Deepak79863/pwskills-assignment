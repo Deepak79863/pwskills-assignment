{
 "cells": [
  {
   "cell_type": "code",
   "execution_count": 1,
   "id": "af854515",
   "metadata": {},
   "outputs": [],
   "source": [
    "# 1 Ans)\n",
    "class vehicle:\n",
    "    def __init__(self, name_of_vehicle, max_speed, average_of_vehicle):\n",
    "        self.name_of_vehicle = name_of_vehicle\n",
    "        self.max_speed = max_speed\n",
    "        self.average_of_vehicle = average_of_vehicle"
   ]
  },
  {
   "cell_type": "code",
   "execution_count": 2,
   "id": "6835b207",
   "metadata": {},
   "outputs": [
    {
     "data": {
      "text/plain": [
       "('Brezza', 5)"
      ]
     },
     "execution_count": 2,
     "metadata": {},
     "output_type": "execute_result"
    }
   ],
   "source": [
    "# 2 Ans)\n",
    "class car(vehicle):\n",
    "    def seating_capacity(self, capacity):\n",
    "        self.capacity = capacity\n",
    "        return self.name_of_vehicle, self.capacity\n",
    "\n",
    "c1= car(\"Brezza\", 180, 16)\n",
    "c1.seating_capacity(5)"
   ]
  },
  {
   "cell_type": "code",
   "execution_count": 4,
   "id": "b17a9312",
   "metadata": {},
   "outputs": [
    {
     "name": "stdout",
     "output_type": "stream",
     "text": [
      "Mammals can give direct birth.\n",
      "Winged animals can flap.\n"
     ]
    }
   ],
   "source": [
    "# 3 Ans)\n",
    "'''\n",
    "Multiple Inheritance: When child class is derived or inherited from more than one parent class.\n",
    "This is called multiple inheritance. \n",
    "In multiple inheritance, we have two parent classes/base classes and one child class that inherits both parent classes properties.\n",
    "'''\n",
    "#Example:\n",
    "\n",
    "class Mammal:\n",
    "    def mammal_info(self):\n",
    "        print(\"Mammals can give direct birth.\")\n",
    "\n",
    "class WingedAnimal:\n",
    "    def winged_animal_info(self):\n",
    "        print(\"Winged animals can flap.\")\n",
    "\n",
    "class Bat(Mammal, WingedAnimal):\n",
    "    pass\n",
    "\n",
    "# create an object of Bat class\n",
    "b1 = Bat()\n",
    "\n",
    "b1.mammal_info()\n",
    "b1.winged_animal_info()"
   ]
  },
  {
   "cell_type": "code",
   "execution_count": 7,
   "id": "ae169c2f",
   "metadata": {},
   "outputs": [
    {
     "name": "stdout",
     "output_type": "stream",
     "text": [
      "Maruti Swift\n",
      "BMW\n"
     ]
    }
   ],
   "source": [
    "# 4 Ans)\n",
    "'''\n",
    "Getter: A method that allows you to access an attribute in a given class\n",
    "Setter: A method that allows you to set or mutate the value of an attribute in a class\n",
    "'''\n",
    "\n",
    "class Car:\n",
    "    def __init__(self, name):\n",
    "        self._name = name\n",
    "\n",
    "    def get_name(self):\n",
    "        return self._name\n",
    "\n",
    "    def set_name(self, name):\n",
    "        self._name = name\n",
    "\n",
    "car = Car(\"Maruti Swift\")\n",
    "print(car.get_name()) \n",
    "car.set_name(\"BMW\")\n",
    "print(car.get_name()) "
   ]
  },
  {
   "cell_type": "code",
   "execution_count": 8,
   "id": "badca2fc",
   "metadata": {},
   "outputs": [
    {
     "name": "stdout",
     "output_type": "stream",
     "text": [
      "Inside Parent\n",
      "Inside Child\n"
     ]
    }
   ],
   "source": [
    "# 5 Ans)\n",
    "'''\n",
    "Method overriding is a feature of object-oriented programming languages where the subclass or child class can provide the program with specific characteristics or a specific implementation process of data provided that are already defined in the parent class or superclass.\n",
    "Overriding a method in the same class is not allowed. So, you need to do that in the child class by implementing the Inheritance concept.\n",
    "If you want to override the Parent Class method, create a function in the Child with the same name and number of parameters. This is called function overriding in Python.\n",
    "'''\n",
    "# Example\n",
    "\n",
    "class Parent():\n",
    "      \n",
    "    def __init__(self):\n",
    "        self.value = \"Inside Parent\"\n",
    "          \n",
    "    def show(self):\n",
    "        print(self.value)\n",
    "          \n",
    "class Child(Parent):\n",
    "      \n",
    "    def __init__(self):\n",
    "        self.value = \"Inside Child\"\n",
    "          \n",
    "    def show(self):\n",
    "        print(self.value)\n",
    "          \n",
    "obj1 = Parent()\n",
    "obj2 = Child()\n",
    "  \n",
    "obj1.show()\n",
    "obj2.show()"
   ]
  },
  {
   "cell_type": "code",
   "execution_count": null,
   "id": "e2bc06c4",
   "metadata": {},
   "outputs": [],
   "source": []
  }
 ],
 "metadata": {
  "kernelspec": {
   "display_name": "Python 3 (ipykernel)",
   "language": "python",
   "name": "python3"
  },
  "language_info": {
   "codemirror_mode": {
    "name": "ipython",
    "version": 3
   },
   "file_extension": ".py",
   "mimetype": "text/x-python",
   "name": "python",
   "nbconvert_exporter": "python",
   "pygments_lexer": "ipython3",
   "version": "3.9.1"
  }
 },
 "nbformat": 4,
 "nbformat_minor": 5
}
