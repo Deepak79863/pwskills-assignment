{
 "cells": [
  {
   "cell_type": "markdown",
   "id": "8db94c49",
   "metadata": {},
   "source": [
    "1 Ans) Abstraction is used to hide the internal functionality of the function from the users. The users only interact with the basic implementation of the function, but inner working is hidden. User is familiar with that \"what function does\" but they don't know \"how it does.\"\n",
    "\n",
    "Example: In simple words, we all use the smartphone and very much familiar with its functions such as camera, voice-recorder, call-dialing, etc., but we don't know how these operations are happening in the background. Let's take another example - When we use the TV remote to increase the volume. We don't know how pressing a key increases the volume of the TV. We only know to press the \"+\" button to increase the volume."
   ]
  },
  {
   "cell_type": "markdown",
   "id": "4b99ee6a",
   "metadata": {},
   "source": [
    "2 Ans) Abstraction refers to the process of hiding the implementation details of an object and presenting only the relevant information to the outside world. It helps in reducing the complexity of an object and making it easier to understand and use.\n",
    "\n",
    "Encapsulation refers to the process of binding data and the methods that operate on that data within a single unit or object. It provides a protective shield to the data of an object and restricts the direct access to the data from outside the object. This helps in ensuring the data integrity and security of an object.\n",
    "\n",
    "Example: Consider a bank account object in OOP. The abstraction of the bank account object could be represented by its properties such as account number and balance, and methods such as deposit and withdraw. The user of this bank account object does not need to know the internal workings of how the bank manages the account, such as how the deposit or withdraw methods update the balance.\n",
    "\n",
    "Example:\n",
    "The encapsulation of the bank account object could be achieved by declaring the properties such as account number and balance as private, and providing the methods such as deposit and withdraw as public. This encapsulation ensures that the user can only access the account information through the provided methods and cannot directly access or modify the account number or balance properties."
   ]
  },
  {
   "cell_type": "markdown",
   "id": "42e8f18d",
   "metadata": {},
   "source": [
    "3 Ans) The abc module in Python is the Abstract Base Class module. It provides a way to define abstract base classes (ABCs) in Python, which are classes that cannot be instantiated and are meant to be subclassed. ABCs provide a way to specify an interface that must be implemented by its concrete subclasses.\n",
    "\n",
    "The abc module is used for creating abstract base classes in Python, which can be useful in situations where you want to define a common interface for a set of related classes. By defining an ABC, you can enforce that all concrete implementations of the class adhere to a certain interface. This helps in ensuring that the concrete implementations have certain properties, methods, or behaviors and makes it easier to use them interchangeably.\n",
    "\n",
    "For example, you could define an ABC for a data structure that requires the implementation of certain methods, such as push() and pop(), and then have different concrete implementations of the data structure, such as a Stack or Queue, inherit from the ABC and implement the required methods. This helps in ensuring that all implementations of the data structure have the necessary methods and makes it easier to write code that can work with different implementations interchangeably."
   ]
  },
  {
   "cell_type": "markdown",
   "id": "e1e3579b",
   "metadata": {},
   "source": [
    "4 Ans) Data Abstraction is a technique to hide the internal implementation details of an object and present only the relevant information to the outside world.\n",
    "To achieve data abstraction a class that consists of one or more abstract method is called the abstract class. Abstract methods do not contain their implementation. Abstract class can be inherited by the subclass and abstract method gets its definition in the subclass. Abstraction classes are meant to be the blueprint of the other class. An abstract class can be useful when we are designing large functions. An abstract class is also helpful to provide the standard interface for different implementations of components. Python provides the abc module to use the abstraction in the Python program.\n",
    "\n",
    "Abstract Base Classes\n",
    "An abstract base class is the common application program of the interface for a set of subclasses. It can be used by the third-party, which will provide the implementations such as with plugins. It is also beneficial when we work with the large code-base hard to remember all the classes.\n",
    "\n",
    "Unlike the other high-level language, Python doesn't provide the abstract class itself. We need to import the abc module, which provides the base for defining Abstract Base classes (ABC). The ABC works by decorating methods of the base class as abstract. It registers concrete classes as the implementation of the abstract base. We use the @abstractmethod decorator to define an abstract method or if we don't provide the definition to the method, it automatically becomes the abstract method\n"
   ]
  },
  {
   "cell_type": "markdown",
   "id": "6a57bc24",
   "metadata": {},
   "source": [
    "5 Ans) No, we cannot create an instance of an abstract class. An abstract class is a class that is meant to be subclassed and cannot be instantiated directly.\n",
    "\n",
    "The purpose of an abstract class is to provide a common interface for a set of related classes. By defining an abstract class, you can enforce certain properties, methods, or behaviors that must be present in all concrete implementations of the class. However, an abstract class itself is not a complete implementation, and therefore cannot be instantiated.\n",
    "\n",
    "To use an abstract class, you must create a concrete implementation of the class by subclassing it and providing a concrete implementation for the abstract methods defined in the abstract class. Only then can you create instances of the concrete implementation and use them in your code.\n",
    "\n",
    "In summary, abstract classes are a blueprint for a set of related classes, and cannot be instantiated themselves. To use an abstract class, you must create a concrete implementation by subclassing it and providing concrete implementations for the abstract methods."
   ]
  },
  {
   "cell_type": "code",
   "execution_count": null,
   "id": "df241bd3",
   "metadata": {},
   "outputs": [],
   "source": []
  }
 ],
 "metadata": {
  "kernelspec": {
   "display_name": "Python 3 (ipykernel)",
   "language": "python",
   "name": "python3"
  },
  "language_info": {
   "codemirror_mode": {
    "name": "ipython",
    "version": 3
   },
   "file_extension": ".py",
   "mimetype": "text/x-python",
   "name": "python",
   "nbconvert_exporter": "python",
   "pygments_lexer": "ipython3",
   "version": "3.9.1"
  }
 },
 "nbformat": 4,
 "nbformat_minor": 5
}
