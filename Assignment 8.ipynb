{
 "cells": [
  {
   "cell_type": "code",
   "execution_count": 2,
   "id": "740e4e6e",
   "metadata": {},
   "outputs": [],
   "source": [
    "# 1 Ans)\n",
    "\n",
    "from string import punctuation\n",
    "def checkPass(password):\n",
    "    uppercase = 0\n",
    "    lowercase = 0\n",
    "    special_char = 0\n",
    "    number = 0\n",
    "    valid = False\n",
    "    if len(password)>=10:\n",
    "        for i in password:\n",
    "            if i.isupper():\n",
    "                uppercase+=1\n",
    "            if i.islower():\n",
    "                lowercase+=1\n",
    "            if i in punctuation:\n",
    "                special_char+=1\n",
    "            if i.isnumeric():\n",
    "                number+=1\n",
    "        if uppercase>=2 and lowercase>=2 and special_char>=3 and number>=1:\n",
    "            valid=True\n",
    "    else:\n",
    "        valid= False\n",
    "    if valid:\n",
    "        return \"Valid Password\"\n",
    "    else:\n",
    "        return \"Invalid Password\""
   ]
  },
  {
   "cell_type": "code",
   "execution_count": 4,
   "id": "f898453f",
   "metadata": {},
   "outputs": [
    {
     "name": "stdout",
     "output_type": "stream",
     "text": [
      "[('orange', 80), ('mango', 99), ('grapes', 1000)]\n",
      "[1, 4, 9, 16, 25, 36, 49, 64, 81, 100]\n",
      "[1.0, 1.2599210498948732, 1.4422495703074083, 1.5874010519681994, 1.7099759466766968, 1.8171205928321397, 1.912931182772389, 2.0, 2.080083823051904, 2.154434690031884]\n",
      "True\n",
      "[1, 3, 5, 7, 9]\n",
      "[1, 2, 3, 4, 5, 6]\n",
      "[-1, -2, -3, -4, -5]\n"
     ]
    }
   ],
   "source": [
    "# 2 Ans)\n",
    "\n",
    "#1)\n",
    "def check_string_start(string, start_letter):\n",
    "    return True if string[0] == start_letter else False\n",
    "\n",
    "#2)\n",
    "check_numeric = lambda string: True if string.isdigit() else False\n",
    "check_numeric(\"123\")\n",
    "\n",
    "#3)\n",
    "fruits = [(\"mango\",99),(\"orange\",80), (\"grapes\", 1000)]\n",
    "sorted_fruits = sorted(fruits, key=lambda x: x[1])\n",
    "print(sorted_fruits)\n",
    "\n",
    "#4)\n",
    "squared_numbers = [x**2 for x in range(1, 11)]\n",
    "print(squared_numbers)\n",
    "\n",
    "#5)\n",
    "cuberoot_numbers = list(map(lambda x: x**(1/3), range(1, 11)))\n",
    "print(cuberoot_numbers)\n",
    "\n",
    "#6)\n",
    "is_even = lambda number: True if number % 2 == 0 else False\n",
    "print(is_even(6))\n",
    "\n",
    "#7)\n",
    "numbers = [1,2,3,4,5,6,7,8,9,10]\n",
    "odd_numbers = list(filter(lambda x: x % 2 != 0, numbers))\n",
    "print(odd_numbers)\n",
    "\n",
    "#8)\n",
    "numbers = [1,2,3,4,5,6,-1,-2,-3,-4,-5,0]\n",
    "positive_numbers = [x for x in numbers if x > 0]\n",
    "negative_numbers = [x for x in numbers if x < 0]\n",
    "print(positive_numbers)\n",
    "print(negative_numbers)"
   ]
  },
  {
   "cell_type": "code",
   "execution_count": null,
   "id": "a1ebe620",
   "metadata": {},
   "outputs": [],
   "source": []
  }
 ],
 "metadata": {
  "kernelspec": {
   "display_name": "Python 3 (ipykernel)",
   "language": "python",
   "name": "python3"
  },
  "language_info": {
   "codemirror_mode": {
    "name": "ipython",
    "version": 3
   },
   "file_extension": ".py",
   "mimetype": "text/x-python",
   "name": "python",
   "nbconvert_exporter": "python",
   "pygments_lexer": "ipython3",
   "version": "3.9.1"
  }
 },
 "nbformat": 4,
 "nbformat_minor": 5
}
