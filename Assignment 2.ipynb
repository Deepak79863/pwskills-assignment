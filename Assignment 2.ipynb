{
 "cells": [
  {
   "cell_type": "code",
   "execution_count": 3,
   "id": "ad1ab97b",
   "metadata": {},
   "outputs": [
    {
     "name": "stdout",
     "output_type": "stream",
     "text": [
      "Please enter your percentage: 40\n",
      "D\n"
     ]
    }
   ],
   "source": [
    "# 1 Ans)\n",
    "\n",
    "Marks = int(input(\"Please enter your percentage: \"))\n",
    "\n",
    "if Marks > 90:\n",
    "    print(\"A\")\n",
    "elif Marks>80 and Marks<=90:\n",
    "    print(\"B\")\n",
    "elif Marks>=60 and Marks<=80:\n",
    "    print(\"C\")\n",
    "else:\n",
    "    print(\"D\")"
   ]
  },
  {
   "cell_type": "code",
   "execution_count": 4,
   "id": "cd89ffe1",
   "metadata": {},
   "outputs": [
    {
     "name": "stdout",
     "output_type": "stream",
     "text": [
      "Enter the cost price of a bike: 75000\n",
      "10%\n"
     ]
    }
   ],
   "source": [
    "# 2 Ans)\n",
    "\n",
    "costprice = float(input(\"Enter the cost price of a bike: \"))\n",
    "if(costprice>100000):\n",
    "    print(\"15%\")\n",
    "elif costprice>50000 and costprice<=100000:\n",
    "    print(\"10%\")\n",
    "else:\n",
    "    print(\"5%\")"
   ]
  },
  {
   "cell_type": "code",
   "execution_count": 6,
   "id": "58b6ea21",
   "metadata": {},
   "outputs": [
    {
     "name": "stdout",
     "output_type": "stream",
     "text": [
      "Enter city name: Agra\n",
      "Taj Mahal\n"
     ]
    }
   ],
   "source": [
    "# 3 Ans)\n",
    "\n",
    "city = input(\"Enter city name: \")\n",
    "#display monuments of that city\n",
    "if city == \"Delhi\":\n",
    "    print(\"Red Fort\")\n",
    "elif city == \"Agra\":\n",
    "    print(\"Taj Mahal\")\n",
    "elif city == \"Jaipur\":\n",
    "    print(\"Jal Mahal\")"
   ]
  },
  {
   "cell_type": "code",
   "execution_count": 11,
   "id": "373c0235",
   "metadata": {},
   "outputs": [
    {
     "name": "stdout",
     "output_type": "stream",
     "text": [
      "Enter a number: 100\n",
      "3 times the number divided by 3 before it is less than 10\n"
     ]
    }
   ],
   "source": [
    "# 4 Ans)\n",
    "\n",
    "number = int(input(\"Enter a number: \"))\n",
    "\n",
    "count = 0\n",
    "\n",
    "while number > 10:\n",
    "    number = number / 3\n",
    "    count += 1\n",
    "\n",
    "print(count,\"times the number divided by 3 before it is less than 10\")"
   ]
  },
  {
   "cell_type": "code",
   "execution_count": 12,
   "id": "f441f77b",
   "metadata": {},
   "outputs": [
    {
     "name": "stdout",
     "output_type": "stream",
     "text": [
      "1\n",
      "2\n",
      "3\n",
      "4\n",
      "5\n",
      "6\n",
      "7\n",
      "8\n",
      "9\n",
      "10\n"
     ]
    }
   ],
   "source": [
    "# 5 Ans)\n",
    "\n",
    "# A while loop in Python is used to repeatedly execute a block of code\n",
    "# as long as a certain condition is met.\n",
    "# The loop will keep running as long as the condition is True,\n",
    "# and will exit when the condition becomes False.\n",
    "\n",
    "# Here's the general syntax for a while loop in Python:\n",
    "# while condition:\n",
    "#     # Code to be executed\n",
    "\n",
    "# Here's an example that demonstrates the use of a while loop:\n",
    "# Print the numbers from 1 to 10\n",
    "counter = 1\n",
    "\n",
    "while counter <= 10:\n",
    "    print(counter)\n",
    "    counter += 1\n",
    "\n",
    "# In this example, the while loop will run as long as\n",
    "# the value of counter is less than or equal to 10.\n",
    "# On each iteration of the loop, the value of counter is printed,\n",
    "# and then incremented by 1.\n",
    "# The loop will exit when the value of counter becomes greater than 10.\n",
    "\n",
    "# The while loop is useful when you don't know in advance how many times\n",
    "# you need to loop, and you want to keep looping until a certain condition is met.\n",
    "# For example, you can use a while loop to read data from a file until the end of the file is reached,\n",
    "# or to keep asking the user for input until a valid response is given."
   ]
  },
  {
   "cell_type": "code",
   "execution_count": 14,
   "id": "8e531a88",
   "metadata": {},
   "outputs": [
    {
     "name": "stdout",
     "output_type": "stream",
     "text": [
      "enter num4\n",
      "****\n",
      "****\n",
      "****\n",
      "****\n",
      "----------------------------------------------------------------\n",
      "enter num4\n",
      "1\n",
      "12\n",
      "123\n",
      "1234\n",
      "----------------------------------------------------------------\n",
      "enter num4\n",
      "1\n",
      "23\n",
      "456\n",
      "78910\n",
      "----------------------------------------------------------------\n"
     ]
    }
   ],
   "source": [
    "# 6 Ans)\n",
    "\n",
    "# sqaure pattern\n",
    "\n",
    "n = int(input(\"enter num\"))\n",
    "i = 0\n",
    "while i<n:\n",
    "    i=i+1\n",
    "    j = 0\n",
    "    while j<n:\n",
    "        print(\"*\",end=\"\")\n",
    "        j=j+1\n",
    "    print()\n",
    "    \n",
    "print(\"----------------------------------------------------------------\")\n",
    "\n",
    "# triangle pattern\n",
    "n = int(input(\"enter num\"))\n",
    "i = 1\n",
    "while i<=n:\n",
    "    j=1\n",
    "    while j<=i:\n",
    "        print(j,end=\"\")\n",
    "        j = j+1\n",
    "    i = i+1\n",
    "    print()\n",
    "    \n",
    "print(\"----------------------------------------------------------------\")\n",
    "\n",
    "n = int(input(\"enter num\"))\n",
    "i = 1\n",
    "x  = 1\n",
    "while i<=n:\n",
    "    j=1\n",
    "    while j<=i:\n",
    "        print(x,end=\"\")\n",
    "        j = j+1\n",
    "        x=x+1\n",
    "    i = i+1\n",
    "    \n",
    "    print()\n",
    "    \n",
    "print(\"----------------------------------------------------------------\")"
   ]
  },
  {
   "cell_type": "code",
   "execution_count": 18,
   "id": "dc567403",
   "metadata": {},
   "outputs": [
    {
     "name": "stdout",
     "output_type": "stream",
     "text": [
      "10\n",
      "9\n",
      "8\n",
      "7\n",
      "6\n",
      "5\n",
      "4\n",
      "3\n",
      "2\n",
      "1\n"
     ]
    }
   ],
   "source": [
    "# 7 Ans)\n",
    "\n",
    "upper=10\n",
    "lower=1\n",
    "while upper>=lower:\n",
    "    print(upper)\n",
    "    upper-=1"
   ]
  },
  {
   "cell_type": "code",
   "execution_count": 19,
   "id": "f5ef04b4",
   "metadata": {},
   "outputs": [
    {
     "name": "stdout",
     "output_type": "stream",
     "text": [
      "10\n",
      "9\n",
      "8\n",
      "7\n",
      "6\n",
      "5\n",
      "4\n",
      "3\n",
      "2\n",
      "1\n"
     ]
    }
   ],
   "source": [
    "# 8 Ans)\n",
    "a=10\n",
    "b=1\n",
    "#while loop\n",
    "while a>=b:\n",
    "    #print upperBound\n",
    "    print(a)\n",
    "    #decrement upperBound by 1\n",
    "    a-=1"
   ]
  },
  {
   "cell_type": "code",
   "execution_count": null,
   "id": "699837cd",
   "metadata": {},
   "outputs": [],
   "source": []
  }
 ],
 "metadata": {
  "kernelspec": {
   "display_name": "Python 3 (ipykernel)",
   "language": "python",
   "name": "python3"
  },
  "language_info": {
   "codemirror_mode": {
    "name": "ipython",
    "version": 3
   },
   "file_extension": ".py",
   "mimetype": "text/x-python",
   "name": "python",
   "nbconvert_exporter": "python",
   "pygments_lexer": "ipython3",
   "version": "3.9.1"
  }
 },
 "nbformat": 4,
 "nbformat_minor": 5
}
